{
 "cells": [
  {
   "cell_type": "code",
   "execution_count": 1,
   "id": "7edad7f9-6d38-4488-9ec5-edf467ab70ac",
   "metadata": {},
   "outputs": [
    {
     "name": "stdout",
     "output_type": "stream",
     "text": [
      "System of Equalities is  inconistent\n"
     ]
    }
   ],
   "source": [
    "import numpy as np\n",
    "A = np.matrix([[1,2,-1],[2,1,5],[3,3,4]])\n",
    "B = np.matrix([[1],[2],[1]])\n",
    "\n",
    "AB = np.concatenate((A,B), axis=1)\n",
    "rA = np.linalg.matrix_rank(A)\n",
    "rAB = np.linalg.matrix_rank(AB)\n",
    "\n",
    "n = A.shape[1]\n",
    "\n",
    "if(rA == rAB):\n",
    "    if(rA==n):\n",
    "        print(\"System has unique solution\")\n",
    "        print(np.linalg.solve(A,B))\n",
    "    else:\n",
    "        print(\"System has infinitely many solutions\")\n",
    "else: \n",
    "    print(\"System of Equalities is  inconistent\")"
   ]
  }
 ],
 "metadata": {
  "kernelspec": {
   "display_name": "Python 3 (ipykernel)",
   "language": "python",
   "name": "python3"
  },
  "language_info": {
   "codemirror_mode": {
    "name": "ipython",
    "version": 3
   },
   "file_extension": ".py",
   "mimetype": "text/x-python",
   "name": "python",
   "nbconvert_exporter": "python",
   "pygments_lexer": "ipython3",
   "version": "3.11.7"
  }
 },
 "nbformat": 4,
 "nbformat_minor": 5
}
