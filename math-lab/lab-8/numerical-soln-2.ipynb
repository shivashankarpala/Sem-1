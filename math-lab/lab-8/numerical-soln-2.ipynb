{
 "cells": [
  {
   "cell_type": "code",
   "execution_count": 2,
   "id": "ce357f01-8fb8-4cc0-9a85-fc71906adbf0",
   "metadata": {},
   "outputs": [
    {
     "name": "stdout",
     "output_type": "stream",
     "text": [
      "System has 1 non-trivial solution(s)\n"
     ]
    }
   ],
   "source": [
    "import numpy as np\n",
    "A = np.matrix([[1,2,-1],[2,1,4],[1,-1,5]])\n",
    "B = np.matrix([[0],[0],[0]])\n",
    "\n",
    "r = np.linalg.matrix_rank(A)\n",
    "n = A.shape[1]\n",
    "\n",
    "if(r == n):\n",
    "    print(\"System has trivial solution\")\n",
    "else: \n",
    "    print(\"System has\", n-r, \"non-trivial solution(s)\")\n",
    "    "
   ]
  }
 ],
 "metadata": {
  "kernelspec": {
   "display_name": "Python 3 (ipykernel)",
   "language": "python",
   "name": "python3"
  },
  "language_info": {
   "codemirror_mode": {
    "name": "ipython",
    "version": 3
   },
   "file_extension": ".py",
   "mimetype": "text/x-python",
   "name": "python",
   "nbconvert_exporter": "python",
   "pygments_lexer": "ipython3",
   "version": "3.11.7"
  }
 },
 "nbformat": 4,
 "nbformat_minor": 5
}
