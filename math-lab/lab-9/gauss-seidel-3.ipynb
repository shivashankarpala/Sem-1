{
 "cells": [
  {
   "cell_type": "code",
   "execution_count": 3,
   "id": "cd883853-6fc2-4a4b-97cf-fabbd893ecf8",
   "metadata": {},
   "outputs": [
    {
     "name": "stdout",
     "output_type": "stream",
     "text": [
      "[[ 1.]\n",
      " [-1.]\n",
      " [ 1.]]\n"
     ]
    }
   ],
   "source": [
    "from numpy import *\n",
    "def seidel(a, x, b):\n",
    "    n = len(a)\n",
    "\n",
    "    for j in range(0, n):\n",
    "        d = b[j]\n",
    "\n",
    "        for i in range(0, n):\n",
    "            if(j != i):\n",
    "                d = d-a[j][i] * x[i]\n",
    "\n",
    "        x[j] = d / a[j][j] \n",
    "\n",
    "    return x\n",
    "\n",
    "a = array([[20.0, 1.0, -2.0], [3.0, 20.0, -1.0], [2.0, -3.0, 20.0]])\n",
    "x = array([[0.0],[0.0],[0.0]])\n",
    "b = array([[17.0],[-18.0],[25.0]])\n",
    "\n",
    "for i in range(0,25):\n",
    "    x = seidel(a, x, b)\n",
    "\n",
    "print(x)"
   ]
  }
 ],
 "metadata": {
  "kernelspec": {
   "display_name": "Python 3 (ipykernel)",
   "language": "python",
   "name": "python3"
  },
  "language_info": {
   "codemirror_mode": {
    "name": "ipython",
    "version": 3
   },
   "file_extension": ".py",
   "mimetype": "text/x-python",
   "name": "python",
   "nbconvert_exporter": "python",
   "pygments_lexer": "ipython3",
   "version": "3.11.7"
  }
 },
 "nbformat": 4,
 "nbformat_minor": 5
}
