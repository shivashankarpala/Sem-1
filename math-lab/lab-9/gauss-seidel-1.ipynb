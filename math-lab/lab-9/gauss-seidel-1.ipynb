{
 "cells": [
  {
   "cell_type": "code",
   "execution_count": 3,
   "id": "07b5fdf2-4e08-4bb2-86d7-7474aec767ff",
   "metadata": {},
   "outputs": [
    {
     "name": "stdin",
     "output_type": "stream",
     "text": [
      "Enter tolarable Error:  0.001\n"
     ]
    },
    {
     "name": "stdout",
     "output_type": "stream",
     "text": [
      "\n",
      "Count\tx\ty\tz\n",
      "1\t0.8500\t-1.0275\t1.0109\n",
      "\n",
      "2\t1.0025\t-0.9998\t0.9998\n",
      "\n",
      "3\t1.0000\t-1.0000\t1.0000\n",
      "\n",
      "\n",
      "Solution:  x=1.000, y=-1.000, z=1.000\n",
      "\n"
     ]
    }
   ],
   "source": [
    "f1 = lambda x,y,z: (17-y+2*z)/20\n",
    "f2 = lambda x,y,z: (-18-3*x+z)/20\n",
    "f3 = lambda x,y,z: (25-2*x+3*y)/20\n",
    "\n",
    "x0 = 0\n",
    "y0 = 0\n",
    "z0 = 0\n",
    "count = 1\n",
    "\n",
    "e = float(input('Enter tolarable Error: '))\n",
    "print('\\nCount\\tx\\ty\\tz')\n",
    "\n",
    "condition = True\n",
    "\n",
    "while condition:\n",
    "    x1 = f1(x0, y0, z0)\n",
    "    y1 = f2(x1, y0, z0)\n",
    "    z1 = f3(x1, y1, z0)\n",
    "    print('%d\\t%0.4f\\t%0.4f\\t%0.4f\\n' %(count, x1, y1, z1))\n",
    "\n",
    "    e1 = abs(x0-x1)\n",
    "    e2 = abs(y0-y1)\n",
    "    e3 = abs(z0-z1)\n",
    "\n",
    "    count +=1\n",
    "    x0 = x1\n",
    "    y0 = y1\n",
    "    z0 = z1\n",
    "\n",
    "    condition =  e1>e and e2>e and e3>e\n",
    "\n",
    "print('\\nSolution:  x=%0.3f, y=%0.3f, z=%0.3f\\n' %(x1,y1,z1))"
   ]
  }
 ],
 "metadata": {
  "kernelspec": {
   "display_name": "Python 3 (ipykernel)",
   "language": "python",
   "name": "python3"
  },
  "language_info": {
   "codemirror_mode": {
    "name": "ipython",
    "version": 3
   },
   "file_extension": ".py",
   "mimetype": "text/x-python",
   "name": "python",
   "nbconvert_exporter": "python",
   "pygments_lexer": "ipython3",
   "version": "3.11.7"
  }
 },
 "nbformat": 4,
 "nbformat_minor": 5
}
