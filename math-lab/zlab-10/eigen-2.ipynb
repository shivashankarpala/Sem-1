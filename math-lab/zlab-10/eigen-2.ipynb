{
 "cells": [
  {
   "cell_type": "code",
   "execution_count": 1,
   "id": "6e59961c-f184-4208-a3df-1dbe61a478e8",
   "metadata": {},
   "outputs": [
    {
     "name": "stdout",
     "output_type": "stream",
     "text": [
      "\n",
      "Given Matrix: \n",
      " [[ 1 -3  3]\n",
      " [ 3 -5  3]\n",
      " [ 6 -6  4]]\n",
      "\n",
      "Eigen Values: \n",
      " [ 4. -2. -2.]\n",
      "\n",
      "Eigen Vectors: \n",
      " [[ 0.40824829 -0.40824829 -0.30502542]\n",
      " [ 0.40824829  0.40824829 -0.808424  ]\n",
      " [ 0.81649658  0.81649658 -0.50339858]]\n"
     ]
    }
   ],
   "source": [
    "import numpy as np\n",
    "\n",
    "I = np.array([[1,-3,3],[3,-5,3],[6,-6,4]])\n",
    "print(\"\\nGiven Matrix: \\n\", I)\n",
    "\n",
    "w,v = np.linalg.eig(I)\n",
    "print(\"\\nEigen Values: \\n\",w)\n",
    "print(\"\\nEigen Vectors: \\n\",v)"
   ]
  }
 ],
 "metadata": {
  "kernelspec": {
   "display_name": "Python 3 (ipykernel)",
   "language": "python",
   "name": "python3"
  },
  "language_info": {
   "codemirror_mode": {
    "name": "ipython",
    "version": 3
   },
   "file_extension": ".py",
   "mimetype": "text/x-python",
   "name": "python",
   "nbconvert_exporter": "python",
   "pygments_lexer": "ipython3",
   "version": "3.11.7"
  }
 },
 "nbformat": 4,
 "nbformat_minor": 5
}
