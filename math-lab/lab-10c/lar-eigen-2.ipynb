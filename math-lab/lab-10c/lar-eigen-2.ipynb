{
 "cells": [
  {
   "cell_type": "code",
   "execution_count": 1,
   "id": "cb441477-7e8a-4dd5-860c-288389e1b748",
   "metadata": {},
   "outputs": [
    {
     "name": "stdout",
     "output_type": "stream",
     "text": [
      "Eigen Value:  6.001465559355154\n",
      "Eigen Vector:  [0.5003663 1.        0.5003663]\n"
     ]
    }
   ],
   "source": [
    "import numpy as np\n",
    "\n",
    "def normalize(x):\n",
    "    fac = abs(x).max()\n",
    "    x_n = x/x.max()\n",
    "    return fac, x_n\n",
    "\n",
    "x = np.array([1,1,1])\n",
    "a = np.array([[1,1,3],[1,5,1],[3,1,1]])\n",
    "\n",
    "for i in range(10):\n",
    "    x = np.dot(a,x)\n",
    "    lambda_1, x = normalize(x)\n",
    "\n",
    "print(\"Eigen Value: \", lambda_1)\n",
    "print(\"Eigen Vector: \", x)"
   ]
  }
 ],
 "metadata": {
  "kernelspec": {
   "display_name": "Python 3 (ipykernel)",
   "language": "python",
   "name": "python3"
  },
  "language_info": {
   "codemirror_mode": {
    "name": "ipython",
    "version": 3
   },
   "file_extension": ".py",
   "mimetype": "text/x-python",
   "name": "python",
   "nbconvert_exporter": "python",
   "pygments_lexer": "ipython3",
   "version": "3.11.7"
  }
 },
 "nbformat": 4,
 "nbformat_minor": 5
}
