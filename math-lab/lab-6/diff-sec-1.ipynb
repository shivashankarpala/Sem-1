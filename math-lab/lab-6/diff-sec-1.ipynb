{
 "cells": [
  {
   "cell_type": "code",
   "execution_count": 2,
   "id": "dbc58f60-dd61-446b-b619-eeaea259a372",
   "metadata": {
    "editable": true,
    "slideshow": {
     "slide_type": ""
    },
    "tags": []
   },
   "outputs": [
    {
     "name": "stdout",
     "output_type": "stream",
     "text": [
      "Differential Equation\n"
     ]
    },
    {
     "data": {
      "text/latex": [
       "$\\displaystyle 6 y{\\left(x \\right)} - \\cos{\\left(4 x \\right)} - 5 \\frac{d}{d x} y{\\left(x \\right)} + \\frac{d^{2}}{d x^{2}} y{\\left(x \\right)} = 0$"
      ],
      "text/plain": [
       "Eq(6*y(x) - cos(4*x) - 5*Derivative(y(x), x) + Derivative(y(x), (x, 2)), 0)"
      ]
     },
     "metadata": {},
     "output_type": "display_data"
    },
    {
     "name": "stdout",
     "output_type": "stream",
     "text": [
      "\n",
      "\n",
      "General Solution\n"
     ]
    },
    {
     "data": {
      "text/latex": [
       "$\\displaystyle y{\\left(x \\right)} = C_{1} e^{2 x} + C_{2} e^{3 x} - \\frac{\\sin{\\left(4 x \\right)}}{25} - \\frac{\\cos{\\left(4 x \\right)}}{50}$"
      ],
      "text/plain": [
       "Eq(y(x), C1*exp(2*x) + C2*exp(3*x) - sin(4*x)/25 - cos(4*x)/50)"
      ]
     },
     "metadata": {},
     "output_type": "display_data"
    },
    {
     "name": "stdout",
     "output_type": "stream",
     "text": [
      "\n",
      "\n",
      "Particular Solution\n"
     ]
    },
    {
     "data": {
      "text/latex": [
       "$\\displaystyle y{\\left(x \\right)} = 2 e^{3 x} + e^{2 x} - \\frac{\\sin{\\left(4 x \\right)}}{25} - \\frac{\\cos{\\left(4 x \\right)}}{50}$"
      ],
      "text/plain": [
       "Eq(y(x), 2*exp(3*x) + exp(2*x) - sin(4*x)/25 - cos(4*x)/50)"
      ]
     },
     "metadata": {},
     "output_type": "display_data"
    }
   ],
   "source": [
    "from sympy import *\n",
    "\n",
    "x, C1, C2 = symbols('x, C1, C2')\n",
    "y = Function('y')(x)\n",
    "\n",
    "y1 = diff(y, x)\n",
    "y2 = diff(y1, x)\n",
    "\n",
    "print(\"Differential Equation\")\n",
    "diff1 = Eq(y2- 5*y1 + 6*y - cos(4*x), 0)\n",
    "display(diff1)\n",
    "\n",
    "print(\"\\n\\nGeneral Solution\")\n",
    "z = dsolve(diff1)\n",
    "display(z)\n",
    "\n",
    "ps = z.subs({C1:1, C2:2})\n",
    "print(\"\\n\\nParticular Solution\")\n",
    "display(ps)"
   ]
  }
 ],
 "metadata": {
  "kernelspec": {
   "display_name": "Python 3 (ipykernel)",
   "language": "python",
   "name": "python3"
  },
  "language_info": {
   "codemirror_mode": {
    "name": "ipython",
    "version": 3
   },
   "file_extension": ".py",
   "mimetype": "text/x-python",
   "name": "python",
   "nbconvert_exporter": "python",
   "pygments_lexer": "ipython3",
   "version": "3.11.7"
  }
 },
 "nbformat": 4,
 "nbformat_minor": 5
}
