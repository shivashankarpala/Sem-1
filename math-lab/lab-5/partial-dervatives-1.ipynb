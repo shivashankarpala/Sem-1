{
 "cells": [
  {
   "cell_type": "code",
   "execution_count": 16,
   "id": "e6cdd909-7231-421a-a9e3-b5e371cbb015",
   "metadata": {},
   "outputs": [
    {
     "data": {
      "text/latex": [
       "$\\displaystyle \\left(x \\cos{\\left(y \\right)} - y \\sin{\\left(y \\right)}\\right) e^{x}$"
      ],
      "text/plain": [
       "(x*cos(y) - y*sin(y))*exp(x)"
      ]
     },
     "metadata": {},
     "output_type": "display_data"
    },
    {
     "name": "stdout",
     "output_type": "stream",
     "text": [
      "Ans: 0.0\n"
     ]
    }
   ],
   "source": [
    "from sympy import *\n",
    "x,y = symbols('x y')\n",
    "\n",
    "u = exp(x)*(x*cos(y)-y*sin(y))\n",
    "display(u)\n",
    "dux = diff(u,x)\n",
    "duy = diff(u,y)\n",
    "uxx = diff(dux,x)\n",
    "uyy = diff(duy,y)\n",
    "\n",
    "w=uxx+uyy\n",
    "w1 = simplify(w)\n",
    "print('Ans:',float(w1))"
   ]
  }
 ],
 "metadata": {
  "kernelspec": {
   "display_name": "Python 3 (ipykernel)",
   "language": "python",
   "name": "python3"
  },
  "language_info": {
   "codemirror_mode": {
    "name": "ipython",
    "version": 3
   },
   "file_extension": ".py",
   "mimetype": "text/x-python",
   "name": "python",
   "nbconvert_exporter": "python",
   "pygments_lexer": "ipython3",
   "version": "3.11.7"
  }
 },
 "nbformat": 4,
 "nbformat_minor": 5
}
