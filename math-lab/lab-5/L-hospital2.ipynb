{
 "cells": [
  {
   "cell_type": "code",
   "execution_count": 1,
   "id": "4f3cef75-4900-4674-a717-257fabdea685",
   "metadata": {},
   "outputs": [
    {
     "name": "stdout",
     "output_type": "stream",
     "text": [
      "-3/7\n"
     ]
    }
   ],
   "source": [
    "from sympy import Limit, Symbol, exp, sin\n",
    "x= Symbol('x')\n",
    "\n",
    "l=Limit((5*x**4-4*x**2-1)/(10-x-9*x**3),x,1).doit()\n",
    "print(l)"
   ]
  }
 ],
 "metadata": {
  "kernelspec": {
   "display_name": "Python 3 (ipykernel)",
   "language": "python",
   "name": "python3"
  },
  "language_info": {
   "codemirror_mode": {
    "name": "ipython",
    "version": 3
   },
   "file_extension": ".py",
   "mimetype": "text/x-python",
   "name": "python",
   "nbconvert_exporter": "python",
   "pygments_lexer": "ipython3",
   "version": "3.11.7"
  }
 },
 "nbformat": 4,
 "nbformat_minor": 5
}
