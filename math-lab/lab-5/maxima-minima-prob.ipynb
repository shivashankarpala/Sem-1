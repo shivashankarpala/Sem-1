{
 "cells": [
  {
   "cell_type": "code",
   "execution_count": 4,
   "id": "4c3cd3c8-b6d0-4602-80d1-0a509452a37e",
   "metadata": {},
   "outputs": [
    {
     "ename": "SyntaxError",
     "evalue": "incomplete input (3601462936.py, line 38)",
     "output_type": "error",
     "traceback": [
      "\u001b[1;36m  Cell \u001b[1;32mIn[4], line 38\u001b[1;36m\u001b[0m\n\u001b[1;33m    print(\"Furthur tests required\")\u001b[0m\n\u001b[1;37m                                   ^\u001b[0m\n\u001b[1;31mSyntaxError\u001b[0m\u001b[1;31m:\u001b[0m incomplete input\n"
     ]
    }
   ],
   "source": [
    "import sympy\n",
    "from sympy import Symbol, solve, Derivative, pprint, evalf\n",
    "\n",
    "x= Symbol('x')\n",
    "y= Symbol('y')\n",
    "f= x**2+x*y+y**2+3*x-3*y+4\n",
    "\n",
    "d1= Derivative(f,x).doit()\n",
    "d2= Derivative(f,y).doit()\n",
    "\n",
    "criticalpoints1= solve(d1,x)\n",
    "criticalpoints2= solve(d2,y)\n",
    "\n",
    "s1= Derivative(f,x,2).doit()\n",
    "s2= Derivative(f,y,2).doit()\n",
    "s3= Derivative(Derivative(f,y), x).doit()\n",
    "\n",
    "print(\"function value is \")\n",
    "\n",
    "for cx in criticalpoints1:\n",
    "    for cy in criticalpoints2:\n",
    "            try:\n",
    "                q1= s1.subs({x: cx, y: cy}).evalf()\n",
    "                q2= s2.subs({x: cx, y: cy}).evalf()\n",
    "                q3= s3.subs({x: cx, y: cy}).evalf()\n",
    "                delta= s1*s2-s3**2\n",
    "    \n",
    "                print()\n",
    "                print(delta, 1)\n",
    "    \n",
    "                if(delta>0 and s1<0):\n",
    "                    print(\"f takes  maximum\")\n",
    "                elif (delta>0 and s1>0):\n",
    "                    print(\" f takes  minimum\")\n",
    "                if(delta<0):\n",
    "                    print(\"The point is a saddle point\")\n",
    "                else(delta==0):\n",
    "                    print(\"Furthur tests required\")\n",
    "                "
   ]
  }
 ],
 "metadata": {
  "kernelspec": {
   "display_name": "Python 3 (ipykernel)",
   "language": "python",
   "name": "python3"
  },
  "language_info": {
   "codemirror_mode": {
    "name": "ipython",
    "version": 3
   },
   "file_extension": ".py",
   "mimetype": "text/x-python",
   "name": "python",
   "nbconvert_exporter": "python",
   "pygments_lexer": "ipython3",
   "version": "3.11.7"
  }
 },
 "nbformat": 4,
 "nbformat_minor": 5
}
