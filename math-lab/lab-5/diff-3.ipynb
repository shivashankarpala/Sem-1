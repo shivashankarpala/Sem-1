{
 "cells": [
  {
   "cell_type": "code",
   "execution_count": 4,
   "id": "b0684b33-aed9-4b51-845a-ddfb97246d0f",
   "metadata": {},
   "outputs": [
    {
     "data": {
      "image/png": "[encoded data removed]",
      "text/latex": [
       "$\\displaystyle \\left[ y{\\left(x \\right)} = \\sqrt[3]{\\frac{x^{3}}{C_{1} + 3 \\sin{\\left(x \\right)}}}, \\  y{\\left(x \\right)} = \\frac{\\sqrt[3]{\\frac{x^{3}}{C_{1} + 3 \\sin{\\left(x \\right)}}} \\left(-1 - \\sqrt{3} i\\right)}{2}, \\  y{\\left(x \\right)} = \\frac{\\sqrt[3]{\\frac{x^{3}}{C_{1} + 3 \\sin{\\left(x \\right)}}} \\left(-1 + \\sqrt{3} i\\right)}{2}\\right]$"
      ],
      "text/plain": [
       "⎡                                         _______________                     \n",
       "⎢                                        ╱        3                           \n",
       "⎢            _______________            ╱        x                            \n",
       "⎢           ╱        3               3 ╱   ───────────── ⋅(-1 - √3⋅ⅈ)         \n",
       "⎢          ╱        x                ╲╱    C₁ + 3⋅sin(x)                      \n",
       "⎢y(x) = 3 ╱   ───────────── , y(x) = ────────────────────────────────, y(x) = \n",
       "⎣       ╲╱    C₁ + 3⋅sin(x)                         2                         \n",
       "\n",
       "     _______________            ⎤\n",
       "    ╱        3                  ⎥\n",
       "   ╱        x                   ⎥\n",
       "3 ╱   ───────────── ⋅(-1 + √3⋅ⅈ)⎥\n",
       "╲╱    C₁ + 3⋅sin(x)             ⎥\n",
       "────────────────────────────────⎥\n",
       "               2                ⎦"
      ]
     },
     "metadata": {},
     "output_type": "display_data"
    }
   ],
   "source": [
    "from sympy import * \n",
    "init_printing()\n",
    "\n",
    "x,y = symbols('x,y')\n",
    "y = Function(\"y\")(x)\n",
    "\n",
    "y1 = Derivative(y,x)\n",
    "z1 = dsolve(Eq(x**3*y1-x**2*y+y**4*cos(x),0),y)\n",
    "\n",
    "display(z1)"
   ]
  }
 ],
 "metadata": {
  "kernelspec": {
   "display_name": "Python 3 (ipykernel)",
   "language": "python",
   "name": "python3"
  },
  "language_info": {
   "codemirror_mode": {
    "name": "ipython",
    "version": 3
   },
   "file_extension": ".py",
   "mimetype": "text/x-python",
   "name": "python",
   "nbconvert_exporter": "python",
   "pygments_lexer": "ipython3",
   "version": "3.11.7"
  }
 },
 "nbformat": 4,
 "nbformat_minor": 5
}
