{
 "cells": [
  {
   "cell_type": "code",
   "execution_count": 11,
   "id": "71325953-dd27-4e9e-a340-e1315f12637f",
   "metadata": {},
   "outputs": [
    {
     "name": "stdout",
     "output_type": "stream",
     "text": [
      "The Jacobian Matrix is\n"
     ]
    },
    {
     "data": {
      "text/latex": [
       "$\\displaystyle \\left[\\begin{matrix}\\sin{\\left(\\theta \\right)} \\cos{\\left(\\phi \\right)} & \\cos{\\left(\\phi \\right)} \\cos{\\left(\\theta \\right)} & \\sin{\\left(\\phi \\right)}\\\\- \\rho \\sin{\\left(\\phi \\right)} \\sin{\\left(\\theta \\right)} & - \\rho \\sin{\\left(\\phi \\right)} \\cos{\\left(\\theta \\right)} & \\rho \\cos{\\left(\\phi \\right)}\\\\\\rho \\cos{\\left(\\phi \\right)} \\cos{\\left(\\theta \\right)} & - \\rho \\sin{\\left(\\theta \\right)} \\cos{\\left(\\phi \\right)} & 0\\end{matrix}\\right]$"
      ],
      "text/plain": [
       "Matrix([\n",
       "[     sin(theta)*cos(phi),      cos(phi)*cos(theta),     sin(phi)],\n",
       "[-rho*sin(phi)*sin(theta), -rho*sin(phi)*cos(theta), rho*cos(phi)],\n",
       "[ rho*cos(phi)*cos(theta), -rho*sin(theta)*cos(phi),            0]])"
      ]
     },
     "metadata": {},
     "output_type": "display_data"
    },
    {
     "name": "stdout",
     "output_type": "stream",
     "text": [
      "\n",
      "\n",
      " J= \n",
      "\n"
     ]
    },
    {
     "data": {
      "text/latex": [
       "$\\displaystyle \\rho^{2} \\cos{\\left(\\phi \\right)}$"
      ],
      "text/plain": [
       "rho**2*cos(phi)"
      ]
     },
     "metadata": {},
     "output_type": "display_data"
    }
   ],
   "source": [
    "from sympy import *\n",
    "from sympy.abc import rho, phi, theta\n",
    "\n",
    "X=rho*cos(phi)*sin(theta);\n",
    "Y=rho*cos(phi)*cos(theta);\n",
    "Z=rho*sin(phi);\n",
    "\n",
    "dx= Derivative(X,rho).doit()\n",
    "dy= Derivative(Y,rho).doit()\n",
    "dz= Derivative(Z,rho).doit()\n",
    "\n",
    "dx1= Derivative(X,phi).doit();\n",
    "dy1= Derivative(Y,phi).doit();\n",
    "dz1= Derivative(Z,phi).doit()\n",
    "\n",
    "dx2= Derivative(X,theta).doit()\n",
    "dy2= Derivative(Y,theta).doit();\n",
    "dz2= Derivative(Z,theta).doit();\n",
    "\n",
    "J=Matrix([[dx,dy,dz],[dx1,dy1,dz1],[dx2,dy2,dz2]]);\n",
    "print('The Jacobian Matrix is')\n",
    "display(J)\n",
    "\n",
    "print('\\n\\n J= \\n')\n",
    "display(simplify(Determinant(J).doit()))"
   ]
  }
 ],
 "metadata": {
  "kernelspec": {
   "display_name": "Python 3 (ipykernel)",
   "language": "python",
   "name": "python3"
  },
  "language_info": {
   "codemirror_mode": {
    "name": "ipython",
    "version": 3
   },
   "file_extension": ".py",
   "mimetype": "text/x-python",
   "name": "python",
   "nbconvert_exporter": "python",
   "pygments_lexer": "ipython3",
   "version": "3.11.7"
  }
 },
 "nbformat": 4,
 "nbformat_minor": 5
}
