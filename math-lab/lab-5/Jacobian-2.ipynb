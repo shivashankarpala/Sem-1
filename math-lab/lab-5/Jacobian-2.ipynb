{
 "cells": [
  {
   "cell_type": "code",
   "execution_count": 4,
   "id": "8c399b09-8a5b-4c84-877d-2d66710cb873",
   "metadata": {},
   "outputs": [
    {
     "name": "stdout",
     "output_type": "stream",
     "text": [
      "The Jacobian Matrix is \n",
      "\n"
     ]
    },
    {
     "data": {
      "text/latex": [
       "$\\displaystyle \\left[\\begin{matrix}1 & 6 y & - 3 z^{2}\\\\8 x y z & 4 x^{2} z & 4 x^{2} y\\\\- y & - x & 6 z^{2}\\end{matrix}\\right]$"
      ],
      "text/plain": [
       "Matrix([\n",
       "[      1,      6*y,  -3*z**2],\n",
       "[8*x*y*z, 4*x**2*z, 4*x**2*y],\n",
       "[     -y,       -x,   6*z**2]])"
      ]
     },
     "metadata": {},
     "output_type": "display_data"
    },
    {
     "name": "stdout",
     "output_type": "stream",
     "text": [
      "\n",
      "\n",
      " J = \n",
      "\n"
     ]
    },
    {
     "data": {
      "text/latex": [
       "$\\displaystyle 4 x^{3} y - 24 x^{2} y^{3} + 12 x^{2} y z^{3} + 24 x^{2} z^{3} - 288 x y^{2} z^{3}$"
      ],
      "text/plain": [
       "4*x**3*y - 24*x**2*y**3 + 12*x**2*y*z**3 + 24*x**2*z**3 - 288*x*y**2*z**3"
      ]
     },
     "metadata": {},
     "output_type": "display_data"
    },
    {
     "name": "stdout",
     "output_type": "stream",
     "text": [
      "\n",
      "\n",
      " J at (1,-1,0):\n",
      "\n"
     ]
    },
    {
     "data": {
      "text/latex": [
       "$\\displaystyle 20$"
      ],
      "text/plain": [
       "20"
      ]
     },
     "metadata": {},
     "output_type": "display_data"
    }
   ],
   "source": [
    "from sympy import *\n",
    "\n",
    "x,y,z = symbols('x,y,z')\n",
    "\n",
    "u= x+3*y**2-z**3\n",
    "v= 4*x**2*y*z\n",
    "w= 2*z*z**2-x*y\n",
    "\n",
    "dux= diff(u,x)\n",
    "duy= diff(u,y)\n",
    "duz= diff(u,z)\n",
    "\n",
    "dvx= diff(v,x)\n",
    "dvy= diff(v,y)\n",
    "dvz= diff(v,z)\n",
    "\n",
    "dwx= diff(w,x)\n",
    "dwy= diff(w,y)\n",
    "dwz= diff(w,z)\n",
    "\n",
    "J= Matrix([[dux,duy,duz],[dvx,dvy,dvz],[dwx,dwy,dwz]]);\n",
    "\n",
    "print('The Jacobian Matrix is \\n')\n",
    "display(J)\n",
    "\n",
    "Jac= Determinant(J).doit()\n",
    "print('\\n\\n J = \\n')\n",
    "display(Jac)\n",
    "\n",
    "J1= J.subs([(x,1), (y,-1), (z,0)])\n",
    "print('\\n\\n J at (1,-1,0):\\n')\n",
    "\n",
    "Jac1= Determinant(J1).doit()\n",
    "display(Jac1)"
   ]
  },
  {
   "cell_type": "code",
   "execution_count": null,
   "id": "5e158786-9a0f-45c7-b5fc-0ac0d96f1b78",
   "metadata": {},
   "outputs": [],
   "source": []
  }
 ],
 "metadata": {
  "kernelspec": {
   "display_name": "Python 3 (ipykernel)",
   "language": "python",
   "name": "python3"
  },
  "language_info": {
   "codemirror_mode": {
    "name": "ipython",
    "version": 3
   },
   "file_extension": ".py",
   "mimetype": "text/x-python",
   "name": "python",
   "nbconvert_exporter": "python",
   "pygments_lexer": "ipython3",
   "version": "3.11.7"
  }
 },
 "nbformat": 4,
 "nbformat_minor": 5
}
