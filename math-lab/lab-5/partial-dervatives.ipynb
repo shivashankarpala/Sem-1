{
 "cells": [
  {
   "cell_type": "code",
   "execution_count": 2,
   "id": "02f52c0e-ff9f-4480-ab75-1ebbe73bca99",
   "metadata": {},
   "outputs": [
    {
     "name": "stdout",
     "output_type": "stream",
     "text": [
      "Mixed partial derivatives are equal\n"
     ]
    }
   ],
   "source": [
    "from sympy import *\n",
    "x,y =symbols('x y')\n",
    "\n",
    "u=exp(x)*(x*cos(y)-y*sin(y))\n",
    "dux=diff(u,x)\n",
    "duy=diff(u,y)\n",
    "duxy=diff(dux,y)\n",
    "duyx=diff(duy,x)\n",
    "if duxy==duyx:\n",
    "    print('Mixed partial derivatives are equal')\n",
    "else:\n",
    "    print('Mixed partial derivatives are not equal')"
   ]
  }
 ],
 "metadata": {
  "kernelspec": {
   "display_name": "Python 3 (ipykernel)",
   "language": "python",
   "name": "python3"
  },
  "language_info": {
   "codemirror_mode": {
    "name": "ipython",
    "version": 3
   },
   "file_extension": ".py",
   "mimetype": "text/x-python",
   "name": "python",
   "nbconvert_exporter": "python",
   "pygments_lexer": "ipython3",
   "version": "3.11.7"
  }
 },
 "nbformat": 4,
 "nbformat_minor": 5
}
