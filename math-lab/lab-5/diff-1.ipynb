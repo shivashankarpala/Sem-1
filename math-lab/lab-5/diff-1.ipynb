{
 "cells": [
  {
   "cell_type": "code",
   "execution_count": 14,
   "id": "04ae4505-c44e-4870-828c-cfc28b94ed2c",
   "metadata": {},
   "outputs": [
    {
     "name": "stdout",
     "output_type": "stream",
     "text": [
      "\n",
      "Diffrential Equations\n"
     ]
    },
    {
     "data": {
      "image/png": "[encoded data removed]",
      "text/latex": [
       "$\\displaystyle - r + \\frac{d}{d t} p{\\left(t \\right)}$"
      ],
      "text/plain": [
       "     d       \n",
       "-r + ──(p(t))\n",
       "     dt      "
      ]
     },
     "metadata": {},
     "output_type": "display_data"
    },
    {
     "name": "stdout",
     "output_type": "stream",
     "text": [
      "\n",
      "General Solutions\n"
     ]
    },
    {
     "data": {
      "image/png": "[encoded data removed]",
      "text/latex": [
       "$\\displaystyle p{\\left(t \\right)} = C_{1} + r t$"
      ],
      "text/plain": [
       "p(t) = C₁ + r⋅t"
      ]
     },
     "metadata": {},
     "output_type": "display_data"
    },
    {
     "name": "stdout",
     "output_type": "stream",
     "text": [
      "\n",
      "Partial Solutions\n"
     ]
    },
    {
     "data": {
      "image/png": "[encoded data removed]",
      "text/latex": [
       "$\\displaystyle p{\\left(t \\right)} = r t + 2$"
      ],
      "text/plain": [
       "p(t) = r⋅t + 2"
      ]
     },
     "metadata": {},
     "output_type": "display_data"
    }
   ],
   "source": [
    "from sympy import * \n",
    "init_printing()\n",
    "\n",
    "t,r,C1 = symbols('t, r, C1')\n",
    "P = Function('p')(t)\n",
    "\n",
    "print(\"\\nDiffrential Equations\")\n",
    "de1 = Derivative(P, t, 1)-r\n",
    "display(de1)\n",
    "\n",
    "print(\"\\nGeneral Solutions\")\n",
    "\n",
    "gs1 = dsolve(de1)\n",
    "display(gs1)\n",
    "\n",
    "print(\"\\nPartial Solutions\")\n",
    "ps1 = gs1.subs({C1: 2})\n",
    "display(ps1)"
   ]
  },
  {
   "cell_type": "code",
   "execution_count": null,
   "id": "e5a1a0c6-db21-4ca1-a249-a8298f5c36eb",
   "metadata": {},
   "outputs": [],
   "source": []
  }
 ],
 "metadata": {
  "kernelspec": {
   "display_name": "Python 3 (ipykernel)",
   "language": "python",
   "name": "python3"
  },
  "language_info": {
   "codemirror_mode": {
    "name": "ipython",
    "version": 3
   },
   "file_extension": ".py",
   "mimetype": "text/x-python",
   "name": "python",
   "nbconvert_exporter": "python",
   "pygments_lexer": "ipython3",
   "version": "3.11.7"
  }
 },
 "nbformat": 4,
 "nbformat_minor": 5
}
