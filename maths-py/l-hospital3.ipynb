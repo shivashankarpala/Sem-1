{
 "cells": [
  {
   "cell_type": "code",
   "execution_count": 15,
   "id": "222bfc5f-52ba-45de-934d-1ae13c30f457",
   "metadata": {},
   "outputs": [
    {
     "name": "stdout",
     "output_type": "stream",
     "text": [
      "E\n"
     ]
    }
   ],
   "source": [
    "from sympy import Limit, Symbol, exp, sin\n",
    "from math import inf\n",
    "x= Symbol('x')\n",
    "\n",
    "l= Limit((1+1/x)**x,x,inf).doit()\n",
    "print(l)"
   ]
  }
 ],
 "metadata": {
  "kernelspec": {
   "display_name": "Python 3 (ipykernel)",
   "language": "python",
   "name": "python3"
  },
  "language_info": {
   "codemirror_mode": {
    "name": "ipython",
    "version": 3
   },
   "file_extension": ".py",
   "mimetype": "text/x-python",
   "name": "python",
   "nbconvert_exporter": "python",
   "pygments_lexer": "ipython3",
   "version": "3.11.7"
  }
 },
 "nbformat": 4,
 "nbformat_minor": 5
}
