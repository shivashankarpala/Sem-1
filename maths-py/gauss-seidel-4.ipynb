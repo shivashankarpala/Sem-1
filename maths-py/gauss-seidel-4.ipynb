{
 "cells": [
  {
   "cell_type": "code",
   "execution_count": 3,
   "id": "cb11c3a4-9cbb-4b99-affa-3bba86942bc8",
   "metadata": {},
   "outputs": [
    {
     "name": "stdout",
     "output_type": "stream",
     "text": [
      "[[1.]\n",
      " [1.]\n",
      " [1.]]\n"
     ]
    }
   ],
   "source": [
    "from numpy import *\n",
    "import sys\n",
    "def seidel(a, x, b):\n",
    "    n = len(a)\n",
    "\n",
    "    for j in range(0, n):\n",
    "        d = b[j]\n",
    "\n",
    "        for i in range(0, n):\n",
    "            if(j != i):\n",
    "                d = d-a[j][i] * x[i]\n",
    "\n",
    "        x[j] = d / a[j][j] \n",
    "\n",
    "    return x\n",
    "\n",
    "a = array([[10.0, 1.0, 1.0], [1.0, 10.0, 1.0], [1.0, 1.0, 10.0]])\n",
    "x = array([[1.0],[0.0],[0.0]])\n",
    "b = array([[12.0],[12.0],[12.0]])\n",
    "\n",
    "for i in range(0,len(a)):\n",
    "    asum = 0\n",
    "    for j in range(0, len(a)):\n",
    "        if(i != j):\n",
    "            asum += abs(a[i][j])\n",
    "\n",
    "    if(asum <= a[i][i]):\n",
    "        continue\n",
    "    else:\n",
    "        sys.exit(\"The system is not diagonally dominant\")\n",
    "\n",
    "for i in range(0,25):\n",
    "    x = seidel(a, x, b)\n",
    "\n",
    "print(x)"
   ]
  }
 ],
 "metadata": {
  "kernelspec": {
   "display_name": "Python 3 (ipykernel)",
   "language": "python",
   "name": "python3"
  },
  "language_info": {
   "codemirror_mode": {
    "name": "ipython",
    "version": 3
   },
   "file_extension": ".py",
   "mimetype": "text/x-python",
   "name": "python",
   "nbconvert_exporter": "python",
   "pygments_lexer": "ipython3",
   "version": "3.11.7"
  }
 },
 "nbformat": 4,
 "nbformat_minor": 5
}
