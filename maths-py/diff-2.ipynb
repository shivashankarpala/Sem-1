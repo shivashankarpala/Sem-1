{
 "cells": [
  {
   "cell_type": "code",
   "execution_count": 5,
   "id": "f9279741-bf95-4ab5-9ac2-46f08de61da4",
   "metadata": {},
   "outputs": [
    {
     "data": {
      "image/png": "[encoded data removed]",
      "text/latex": [
       "$\\displaystyle \\left[ y{\\left(x \\right)} = - \\sqrt{\\frac{1}{C_{1} - 2 \\sin{\\left(x \\right)}}} \\cos{\\left(x \\right)}, \\  y{\\left(x \\right)} = \\sqrt{\\frac{1}{C_{1} - 2 \\sin{\\left(x \\right)}}} \\cos{\\left(x \\right)}\\right]$"
      ],
      "text/plain": [
       "⎡            _______________                    _______________       ⎤\n",
       "⎢           ╱       1                          ╱       1              ⎥\n",
       "⎢y(x) = -  ╱  ───────────── ⋅cos(x), y(x) =   ╱  ───────────── ⋅cos(x)⎥\n",
       "⎣        ╲╱   C₁ - 2⋅sin(x)                 ╲╱   C₁ - 2⋅sin(x)        ⎦"
      ]
     },
     "metadata": {},
     "output_type": "display_data"
    }
   ],
   "source": [
    "from sympy import * \n",
    "init_printing()\n",
    "\n",
    "x,y = symbols('x,y')\n",
    "y = Function(\"y\")(x)\n",
    "\n",
    "y1 = Derivative(y,x)\n",
    "z1 = dsolve(Eq(y1+y*tan(x)-y**3*sec(x),0),y)\n",
    "\n",
    "display(z1)"
   ]
  }
 ],
 "metadata": {
  "kernelspec": {
   "display_name": "Python 3 (ipykernel)",
   "language": "python",
   "name": "python3"
  },
  "language_info": {
   "codemirror_mode": {
    "name": "ipython",
    "version": 3
   },
   "file_extension": ".py",
   "mimetype": "text/x-python",
   "name": "python",
   "nbconvert_exporter": "python",
   "pygments_lexer": "ipython3",
   "version": "3.11.7"
  }
 },
 "nbformat": 4,
 "nbformat_minor": 5
}
