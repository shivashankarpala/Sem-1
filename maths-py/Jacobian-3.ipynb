{
 "cells": [
  {
   "cell_type": "code",
   "execution_count": 9,
   "id": "71325953-dd27-4e9e-a340-e1315f12637f",
   "metadata": {},
   "outputs": [
    {
     "name": "stdout",
     "output_type": "stream",
     "text": [
      "The Jacobian Matrix is\n"
     ]
    },
    {
     "data": {
      "text/latex": [
       "$\\displaystyle \\left[\\begin{matrix}\\sin{\\left(\\theta \\right)} \\cos{\\left(\\phi \\right)} & \\cos{\\left(\\phi \\right)} \\cos{\\left(\\theta \\right)} & \\frac{\\partial}{\\partial \\rho} \\rho \\sin{\\left(\\phi \\right)}\\\\- \\rho \\sin{\\left(\\phi \\right)} \\sin{\\left(\\theta \\right)} & \\frac{\\partial}{\\partial \\phi} \\rho \\cos{\\left(\\phi \\right)} \\cos{\\left(\\theta \\right)} & \\frac{\\partial}{\\partial \\phi} \\rho \\sin{\\left(\\phi \\right)}\\\\\\frac{\\partial}{\\partial \\theta} \\rho \\sin{\\left(\\theta \\right)} \\cos{\\left(\\phi \\right)} & \\frac{\\partial}{\\partial \\theta} \\rho \\cos{\\left(\\phi \\right)} \\cos{\\left(\\theta \\right)} & \\frac{\\partial}{\\partial \\theta} \\rho \\sin{\\left(\\phi \\right)}\\end{matrix}\\right]$"
      ],
      "text/plain": [
       "Matrix([\n",
       "[                       sin(theta)*cos(phi),                        cos(phi)*cos(theta),   Derivative(rho*sin(phi), rho)],\n",
       "[                  -rho*sin(phi)*sin(theta),   Derivative(rho*cos(phi)*cos(theta), phi),   Derivative(rho*sin(phi), phi)],\n",
       "[Derivative(rho*sin(theta)*cos(phi), theta), Derivative(rho*cos(phi)*cos(theta), theta), Derivative(rho*sin(phi), theta)]])"
      ]
     },
     "metadata": {},
     "output_type": "display_data"
    },
    {
     "name": "stdout",
     "output_type": "stream",
     "text": [
      "\n",
      " J= \n"
     ]
    },
    {
     "data": {
      "text/latex": [
       "$\\displaystyle \\rho^{2} \\sin^{2}{\\left(\\phi \\right)} \\sin^{2}{\\left(\\theta \\right)} \\cos{\\left(\\phi \\right)} + \\rho^{2} \\sin^{2}{\\left(\\phi \\right)} \\cos{\\left(\\phi \\right)} \\cos^{2}{\\left(\\theta \\right)} + \\rho^{2} \\sin^{2}{\\left(\\theta \\right)} \\cos^{3}{\\left(\\phi \\right)} + \\rho^{2} \\cos^{3}{\\left(\\phi \\right)} \\cos^{2}{\\left(\\theta \\right)}$"
      ],
      "text/plain": [
       "rho**2*sin(phi)**2*sin(theta)**2*cos(phi) + rho**2*sin(phi)**2*cos(phi)*cos(theta)**2 + rho**2*sin(theta)**2*cos(phi)**3 + rho**2*cos(phi)**3*cos(theta)**2"
      ]
     },
     "metadata": {},
     "output_type": "display_data"
    }
   ],
   "source": [
    "from sympy import *\n",
    "from sympy.abc import rho, phi, theta\n",
    "\n",
    "X=rho*cos(phi)*sin(theta);\n",
    "Y=rho*cos(phi)*cos(theta);\n",
    "Z=rho*sin(phi);\n",
    "\n",
    "dx= diff(X,rho)\n",
    "dy= diff(Y,rho)\n",
    "dz= diff(Z,rho)\n",
    "\n",
    "dx1= diff(X,phi)\n",
    "dy1= diff(Y,phi)\n",
    "dz1= diff(Z,phi)\n",
    "\n",
    "dx2= diff(X,theta)\n",
    "dy2= diff(Y,theta)\n",
    "dz2= diff(Z,theta)\n",
    "\n",
    "J= Matrix([[dx,dy,dz],[dx1,dy1,dz1],[dx2,dy2,dz2]]);\n",
    "print('The Jacobian Matrix is')\n",
    "display(J)\n",
    "\n",
    "print('\\n J= ')\n",
    "display(simplify(det(J)))"
   ]
  }
 ],
 "metadata": {
  "kernelspec": {
   "display_name": "Python 3 (ipykernel)",
   "language": "python",
   "name": "python3"
  },
  "language_info": {
   "codemirror_mode": {
    "name": "ipython",
    "version": 3
   },
   "file_extension": ".py",
   "mimetype": "text/x-python",
   "name": "python",
   "nbconvert_exporter": "python",
   "pygments_lexer": "ipython3",
   "version": "3.11.7"
  }
 },
 "nbformat": 4,
 "nbformat_minor": 5
}
