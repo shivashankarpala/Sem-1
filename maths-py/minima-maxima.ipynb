{
 "cells": [
  {
   "cell_type": "code",
   "execution_count": 10,
   "id": "26e6fc8e-d3bc-4d85-9fb1-3b25a9bed2d4",
   "metadata": {},
   "outputs": [
    {
     "name": "stdout",
     "output_type": "stream",
     "text": [
      "The stationary points are [(-1, -2), (-1, 2), (1, -2), (1, 2)]\n",
      "\n",
      "At (-1, -2), F has maximum value & it is equal to 38\n",
      "\n",
      "At (-1, 2), F has no maximum value and minimum value\n",
      "\n",
      "At (1, -2), F has no maximum value and minimum value\n",
      "\n",
      "At (1, 2), F has minimum value & it is equal to 2\n"
     ]
    }
   ],
   "source": [
    "from sympy import*\n",
    "x,y=symbols('x,y')\n",
    "f=x**3+y**3-3*x-12*y+20\n",
    "\n",
    "fx=Derivative(f,x).doit()\n",
    "fy=Derivative(f,y).doit()\n",
    "fxx=Derivative(fx,x).doit()\n",
    "fyy=Derivative(fy,y).doit()\n",
    "fxy=Derivative(fy,x).doit()\n",
    "\n",
    "fx1=Eq(fx,0)\n",
    "fy1=Eq(fy,0)\n",
    "statpts=solve([fx1,fy1],(x,y))\n",
    "print(\"The stationary points are\",statpts)\n",
    "n=len(statpts)\n",
    "\n",
    "for i in range(n):\n",
    "    q1=fxx.subs({x:statpts[i][0],y:statpts[i][1]})\n",
    "    q2=fyy.subs({x:statpts[i][0],y:statpts[i][1]})\n",
    "    q3=fxy.subs({x:statpts[i][0],y:statpts[i][1]})\n",
    "    q=q1*q2-q3**2\n",
    "    if(q>0 and q1>0):\n",
    "        min=f.subs({x:statpts[i][0],y:statpts[i][1]})\n",
    "        print(f\"\\nAt {statpts[i]}, F has minimum value & it is equal to {min}\")\n",
    "        \n",
    "    elif(q>0 and q1<0):\n",
    "        max=f.subs({x:statpts[i][0],y:statpts[i][1]})\n",
    "        print(f\"\\nAt {statpts[i]}, F has maximum value & it is equal to {max}\")\n",
    "\n",
    "    else:\n",
    "        print(f\"\\nAt {statpts[i]}, F has no maximum value and minimum value\")"
   ]
  }
 ],
 "metadata": {
  "kernelspec": {
   "display_name": "Python 3 (ipykernel)",
   "language": "python",
   "name": "python3"
  },
  "language_info": {
   "codemirror_mode": {
    "name": "ipython",
    "version": 3
   },
   "file_extension": ".py",
   "mimetype": "text/x-python",
   "name": "python",
   "nbconvert_exporter": "python",
   "pygments_lexer": "ipython3",
   "version": "3.11.7"
  }
 },
 "nbformat": 4,
 "nbformat_minor": 5
}
