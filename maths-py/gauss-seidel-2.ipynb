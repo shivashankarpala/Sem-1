{
 "cells": [
  {
   "cell_type": "code",
   "execution_count": 1,
   "id": "7a80ec86-f863-4927-b91f-c2d9ba4d114a",
   "metadata": {},
   "outputs": [
    {
     "name": "stdin",
     "output_type": "stream",
     "text": [
      "Enter tolarable Error:  0.001\n"
     ]
    },
    {
     "name": "stdout",
     "output_type": "stream",
     "text": [
      "\\Iteration\tx\ty\tz\n",
      "0\t0.3333\t1.3333\t0.6667\n",
      "\n",
      "1\t0.3333\t1.6667\t0.7778\n",
      "\n",
      "\n",
      "Solution:  x=0.333, y=1.667, z=0.778\n",
      "\n"
     ]
    }
   ],
   "source": [
    "f1 = lambda x,y,z: (1+y-2*z)/3\n",
    "f2 = lambda x,y,z: (3-x+z)/2\n",
    "f3 = lambda x,y,z: (2-2*x+2*y)/6\n",
    "\n",
    "x0 = 0\n",
    "y0 = 0\n",
    "z0 = 0\n",
    "\n",
    "e = float(input('Enter tolarable Error: '))\n",
    "print('\\Iteration\\tx\\ty\\tz')\n",
    "\n",
    "for i in range(0,25):\n",
    "    x1 = f1(x0, y0, z0)\n",
    "    y1 = f2(x1, y0, z0)\n",
    "    z1 = f3(x1, y1, z0)\n",
    "    print('%d\\t%0.4f\\t%0.4f\\t%0.4f\\n' %(i, x1, y1, z1))\n",
    "\n",
    "    e1 = abs(x0-x1)\n",
    "    e2 = abs(y0-y1)\n",
    "    e3 = abs(z0-z1)\n",
    "\n",
    "    x0 = x1\n",
    "    y0 = y1\n",
    "    z0 = z1\n",
    "\n",
    "    if e1>e and e2>e and e3>e:\n",
    "        continue\n",
    "    else:\n",
    "        break\n",
    "\n",
    "print('\\nSolution:  x=%0.3f, y=%0.3f, z=%0.3f\\n' %(x1,y1,z1))"
   ]
  }
 ],
 "metadata": {
  "kernelspec": {
   "display_name": "Python 3 (ipykernel)",
   "language": "python",
   "name": "python3"
  },
  "language_info": {
   "codemirror_mode": {
    "name": "ipython",
    "version": 3
   },
   "file_extension": ".py",
   "mimetype": "text/x-python",
   "name": "python",
   "nbconvert_exporter": "python",
   "pygments_lexer": "ipython3",
   "version": "3.11.7"
  }
 },
 "nbformat": 4,
 "nbformat_minor": 5
}
