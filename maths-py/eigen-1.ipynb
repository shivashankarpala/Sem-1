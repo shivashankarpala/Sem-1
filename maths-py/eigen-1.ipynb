{
 "cells": [
  {
   "cell_type": "code",
   "execution_count": 5,
   "id": "da321acc-3e97-4cb6-b526-29844a4441f0",
   "metadata": {},
   "outputs": [
    {
     "name": "stdout",
     "output_type": "stream",
     "text": [
      "\n",
      "Given Matrix: \n",
      " [[ 4  3  2]\n",
      " [ 1  4  1]\n",
      " [ 3 10  4]]\n",
      "\n",
      "Eigen Values: \n",
      " [8.98205672 2.12891771 0.88902557]\n",
      "\n",
      "Eigen Vectors: \n",
      " [[-0.49247712 -0.82039552 -0.42973429]\n",
      " [-0.26523242  0.14250681 -0.14817858]\n",
      " [-0.82892584  0.55375355  0.89071407]]\n",
      "\n",
      "Eigen Value: \n",
      " 8.982056720677651\n",
      "\n",
      "Corresponding Eigen Vector: \n",
      " [-0.49247712 -0.26523242 -0.82892584]\n"
     ]
    }
   ],
   "source": [
    "import numpy as np\n",
    "\n",
    "I = np.array([[4,3,2],[1,4,1],[3,10,4]])\n",
    "print(\"\\nGiven Matrix: \\n\", I)\n",
    "\n",
    "w,v = np.linalg.eig(I)\n",
    "print(\"\\nEigen Values: \\n\",w)\n",
    "print(\"\\nEigen Vectors: \\n\",v)\n",
    "\n",
    "print(\"\\nEigen Value: \\n\", w[0])\n",
    "print(\"\\nCorresponding Eigen Vector: \\n\", v[:,0])"
   ]
  },
  {
   "cell_type": "code",
   "execution_count": null,
   "id": "ce515610-d719-4d71-8673-28717d7d93db",
   "metadata": {},
   "outputs": [],
   "source": []
  }
 ],
 "metadata": {
  "kernelspec": {
   "display_name": "Python 3 (ipykernel)",
   "language": "python",
   "name": "python3"
  },
  "language_info": {
   "codemirror_mode": {
    "name": "ipython",
    "version": 3
   },
   "file_extension": ".py",
   "mimetype": "text/x-python",
   "name": "python",
   "nbconvert_exporter": "python",
   "pygments_lexer": "ipython3",
   "version": "3.11.7"
  }
 },
 "nbformat": 4,
 "nbformat_minor": 5
}
